{
 "cells": [
  {
   "cell_type": "code",
   "execution_count": 148,
   "metadata": {},
   "outputs": [
    {
     "data": {
      "text/plain": [
       "True"
      ]
     },
     "execution_count": 148,
     "metadata": {},
     "output_type": "execute_result"
    }
   ],
   "source": [
    "import dspy\n",
    "import phoenix as px\n",
    "import os\n",
    "import json\n",
    "import random\n",
    "from dotenv import load_dotenv\n",
    "import os\n",
    "from dspy.teleprompt import BootstrapFewShotWithRandomSearch, BootstrapFewShot, LabeledFewShot,BootstrapFewShotWithOptuna, COPRO,BootstrapFinetune \n",
    "from dspy.functional import TypedPredictor\n",
    "import pydantic\n",
    "from typing import List, Dict\n",
    "\n",
    "load_dotenv()"
   ]
  },
  {
   "cell_type": "code",
   "execution_count": 149,
   "metadata": {},
   "outputs": [
    {
     "name": "stderr",
     "output_type": "stream",
     "text": [
      "WARNI [phoenix.session.session] Existing running Phoenix instance detected! Shutting it down and starting a new instance...\n"
     ]
    },
    {
     "name": "stdout",
     "output_type": "stream",
     "text": [
      "🌍 To view the Phoenix app in your browser, visit http://localhost:6006/\n",
      "📖 For more information on how to use Phoenix, check out https://docs.arize.com/phoenix\n"
     ]
    },
    {
     "name": "stderr",
     "output_type": "stream",
     "text": [
      "WARNI [opentelemetry.trace] Overriding of current TracerProvider is not allowed\n",
      "WARNI [opentelemetry.instrumentation.instrumentor] Attempting to instrument while already instrumented\n"
     ]
    }
   ],
   "source": [
    "px.launch_app()\n",
    "from openinference.instrumentation.dspy import DSPyInstrumentor\n",
    "from opentelemetry import trace as trace_api\n",
    "from opentelemetry.exporter.otlp.proto.http.trace_exporter import OTLPSpanExporter\n",
    "from opentelemetry.sdk import trace as trace_sdk\n",
    "from opentelemetry.sdk.resources import Resource\n",
    "from opentelemetry.sdk.trace.export import SimpleSpanProcessor\n",
    "\n",
    "endpoint = \"http://127.0.0.1:6006/v1/traces\"\n",
    "resource = Resource(attributes={})\n",
    "tracer_provider = trace_sdk.TracerProvider(resource=resource)\n",
    "span_otlp_exporter = OTLPSpanExporter(endpoint=endpoint)\n",
    "tracer_provider.add_span_processor(SimpleSpanProcessor(span_exporter=span_otlp_exporter))\n",
    "trace_api.set_tracer_provider(tracer_provider=tracer_provider)\n",
    "DSPyInstrumentor().instrument()"
   ]
  },
  {
   "cell_type": "code",
   "execution_count": 150,
   "metadata": {},
   "outputs": [],
   "source": [
    "\n",
    "\n",
    "# llm = dspy.OllamaLocal(model='llama3:8b-instruct-q8_0', temperature=0, max_tokens=8_000)\n",
    "# dspy.settings.configure(lm=llm)\n",
    "llm = dspy.OllamaLocal(model='qwen2:7b-instruct-q8_0', temperature=0, max_tokens=8_000)\n",
    "# llm = dspy.OllamaLocal(model='gemma2:9b-instruct-q8_0', temperature=0, max_tokens=8_000)\n",
    "# llm = dspy.OllamaLocal(model='gemma2:9b-instruct-q8_0', temperature=0, max_tokens=250)\n",
    "dspy.settings.configure(lm=llm)\n",
    "# gemini = dspy.Google( temperature=0)\n",
    "# # Configure DeepSpeed settings\n",
    "# dspy.settings.configure(lm=gemini, max_tokens=1024)"
   ]
  },
  {
   "cell_type": "code",
   "execution_count": 151,
   "metadata": {},
   "outputs": [],
   "source": [
    "DATA_DIR = './data/derived_datasets/'\n",
    "PROP_CLUSTERING_PATH = 'proposition_clustering.json'\n",
    "SALIENCE_DETECTION_PATH = 'salience.json'\n",
    "\n",
    "with open(os.path.join(DATA_DIR, PROP_CLUSTERING_PATH), 'r') as f:\n",
    "    prop_clustering = json.load(f)\n",
    "\n",
    "with open(os.path.join(DATA_DIR, SALIENCE_DETECTION_PATH), 'r') as f:\n",
    "    salience = json.load(f)"
   ]
  },
  {
   "cell_type": "code",
   "execution_count": 152,
   "metadata": {},
   "outputs": [],
   "source": [
    "PC_dataset = []\n",
    "\n",
    "def clean_str(string :str):\n",
    "    return string#.replace(r'.', r',').replace(r',,', r',').replace(r'\"', r' ')\n",
    "\n",
    "for topic in prop_clustering.keys():\n",
    "    current = prop_clustering[topic]\n",
    "    docSpanTexts = [item['docSpanText'] for item in  current['input_spans']]\n",
    "    random.shuffle(docSpanTexts)\n",
    "    spans_list = {item : index for index, item in zip(range(len(docSpanTexts)), docSpanTexts)}\n",
    "    # input_spans = [clean_str(item) for item in docSpanTexts]\n",
    "    input_spans = [f'<START_SPAN_{spans_list[item]}>: {clean_str(item)} <END_SPAN_{spans_list[item]}>' for item in docSpanTexts]\n",
    "    clusters = []\n",
    "    for cluster in prop_clustering[topic]['clusters']:\n",
    "        salience_spans = {spans_list[span['docSpanText']]:int(cluster[\"clusterID\"]) for span in cluster['spans']}\n",
    "        clusters.append(salience_spans)\n",
    "    flatten_cluster = str({k: v for cluster in clusters for k,v in cluster.items()})\n",
    "    PC_dataset.append(dspy.Example(salience_spans=' '.join(input_spans), clusters=flatten_cluster).with_inputs('salience_spans'))"
   ]
  },
  {
   "cell_type": "code",
   "execution_count": 153,
   "metadata": {},
   "outputs": [
    {
     "data": {
      "text/plain": [
       "'<START_SPAN_0>: Sierra Nevada Brewing Co., which is located in Chico, California <END_SPAN_0> <START_SPAN_1>: is our hope that homebrewers will make a batch of Resilience IPA in solidarity <END_SPAN_1> <START_SPAN_2>: Many of our employees and community members were severely impacted by this tragic event <END_SPAN_2> <START_SPAN_3>: To help raise much needed support for the recovery efforts, Sierra Nevada has created a beer called Resilience IPA. Sierra Nevada<SPAN_SEP>with all proceeds donated to the Sierra Nevada Camp Fire Relief Fund <END_SPAN_3> <START_SPAN_4>: many of Sierra Nevada\\'s employees<SPAN_SEP>lost everything <END_SPAN_4> <START_SPAN_5>: In all, Resilience Butte County Proud IPA should hit the market in mid-late December more than 17,000 barrels-or 4.2 million pints <END_SPAN_5> <START_SPAN_6>: 15 percent of their employees losing homes in the fire <END_SPAN_6> <START_SPAN_7>: Sierra Nevada Founder Ken Grossman reached out to other small breweries across the country and shared the recipe <END_SPAN_7> <START_SPAN_8>: In the days following the fire, we announced plans to brew Resilience Butte County Proud IPA, a fundraiser beer for Camp Fire relief. We committed to brewing the beer and donating 100% of the sales to the Sierra Nevada Camp Fire Relief Fund<SPAN_SEP>More than 1,400 breweries signed up to brew Resilience <END_SPAN_8> <START_SPAN_9>: Sierra Nevada Brewery in Chico is brewing up another way to raise money for victims of the Camp <END_SPAN_9> <START_SPAN_10>: we felt like it should be a taste of home. We wanted to go with that classic danky west coast IPA <END_SPAN_10> <START_SPAN_11>: Sierra Nevada has created a beer called Resilience IPA <END_SPAN_11> <START_SPAN_12>: I know he wanted to raise at least seven figures, and it looks like, if our math is correct, it\\'s going to be a bit higher than that. <END_SPAN_12> <START_SPAN_13>: About 15 percent of Sierra Nevada Brewing Co. employees lost their homes in the fire, as did \"countless friends and family members as well,\" she said. <END_SPAN_13> <START_SPAN_14>: We<SPAN_SEP>were hoping, it would be great if we could get to 500 breweries committing <END_SPAN_14> <START_SPAN_15>: The fire hit close to home for the company, with 15 percent of their employees losing homes in the fire <END_SPAN_15> <START_SPAN_16>: When the Camp Fire started<SPAN_SEP>it soon became the deadliest and most destructive wildfire in California history<SPAN_SEP>we announced plans to brew Resilience Butte County Proud IPA, a fundraiser beer for Camp Fire relief <END_SPAN_16> <START_SPAN_17>: Sierra Nevada spokesperson Robin Gregory said<SPAN_SEP>\"We were absolutely blown away <END_SPAN_17> <START_SPAN_18>: Sierra Nevada, along with many of its professional brewing peers, will be brewing and selling Resilience IPA with all proceeds donated to the Sierra Nevada Camp Fire Relief Fund <END_SPAN_18> <START_SPAN_19>: The Camp Fire-the most devastating wildfire in California\\'s history-has hit close to home for Sierra Nevada Brewing Co. <END_SPAN_19> <START_SPAN_20>: The Camp Fire-the most devastating wildfire in California\\'s history <END_SPAN_20> <START_SPAN_21>: To help raise much needed support for the recovery efforts, Sierra Nevada has created a beer called Resilience IPA. Sierra Nevada, along with many of its professional brewing peers<SPAN_SEP>with all proceeds donated to the Sierra Nevada Camp Fire Relief Fund <END_SPAN_21> <START_SPAN_22>: The beer is called Resilience Butte County Proud IPA <END_SPAN_22> <START_SPAN_23>: for victims of the Camp Fire<SPAN_SEP>raise money for fire relief efforts <END_SPAN_23> <START_SPAN_24>: the project should yield about 8.6 million pints of beer <END_SPAN_24> <START_SPAN_25>: The deadliest fire in California history has set into motion the largest charitable collaboration ever among the nation\\'s breweries <END_SPAN_25> <START_SPAN_26>: if we really work hard maybe we can hit 500 breweries, and we have doubled that number,\" brewery spokesperson Robin Gregory said <END_SPAN_26> <START_SPAN_27>: Sierra Nevada Brewery in Chico is brewing up another way to raise money for victims of the Camp Fire <END_SPAN_27> <START_SPAN_28>: Butte County IPA that will send 100% of the proceeds to Camp Fire relief efforts. USA TODAY<SPAN_SEP>as more than 1,200 have signed on to brew a beer to raise funds for those affected by the Camp Fire in Northern California <END_SPAN_28> <START_SPAN_29>: The Camp Fire took the lives of at least 85<SPAN_SEP>destroyed nearly 19,000 buildings <END_SPAN_29> <START_SPAN_30>: 10 Barrel Brewing Co<SPAN_SEP>2Toms Brewing Co.<SPAN_SEP>Floyds Brewing Co<SPAN_SEP>Sheeps Brewing Co<SPAN_SEP>Hands Brewing Co<SPAN_SEP>Alarm Brewing Co<SPAN_SEP>Wonder Brewery<SPAN_SEP>902 Brewing Co<SPAN_SEP>Alamo Beer Co<SPAN_SEP>Aldus Brewing Co.<SPAN_SEP>B\\'s of the Back Rose<SPAN_SEP>https://untappd.com/brewery/163646 <END_SPAN_30> <START_SPAN_31>: When the Camp Fire started in the hills above our Chico brewery on November 8, 2018<SPAN_SEP>The fire burned more than 153,000 acres, killed at least 85 people, and destroyed more than 13,000 homes <END_SPAN_31> <START_SPAN_32>: On Tuesday, Sierra Nevada will begin brewing a special IPA to raise money for fire relief efforts <END_SPAN_32> <START_SPAN_33>: Sierra Nevada will begin brewing a special IPA to raise money for fire relief efforts <END_SPAN_33> <START_SPAN_34>: The Camp Fire<SPAN_SEP>hit close to home for Sierra Nevada Brewing Co.<SPAN_SEP>the Chico brewery was spared <END_SPAN_34> <START_SPAN_35>: Sierra Nevada Brewing Co.<SPAN_SEP>Chico <END_SPAN_35> <START_SPAN_36>: Sierra Nevada, along with many of its professional brewing peers, will be brewing and selling Resilience IPA <END_SPAN_36>'"
      ]
     },
     "execution_count": 153,
     "metadata": {},
     "output_type": "execute_result"
    }
   ],
   "source": [
    "PC_dataset[0].salience_spans"
   ]
  },
  {
   "attachments": {
    "image.png": {
     "image/png": "[encoded data removed]"
    }
   },
   "cell_type": "markdown",
   "metadata": {},
   "source": [
    "![image.png](attachment:image.png)"
   ]
  },
  {
   "cell_type": "code",
   "execution_count": 154,
   "metadata": {},
   "outputs": [
    {
     "name": "stdout",
     "output_type": "stream",
     "text": [
      "Number of Multinews (tests/ multi documents): 98\n",
      "Number of document: 275\n"
     ]
    }
   ],
   "source": [
    "def calculate_num_documents(list_data):\n",
    "    return len([doc for test_text in list_data.values() for doc in test_text[\"documents\"]])\n",
    "\n",
    "print(f'Number of Multinews (tests/ multi documents): {len(salience)}')\n",
    "print(f'Number of document: {calculate_num_documents(salience)}')"
   ]
  },
  {
   "cell_type": "code",
   "execution_count": 155,
   "metadata": {},
   "outputs": [],
   "source": [
    "num_topics = len([topic for topic in salience.keys()])\n",
    "train_size, dev_size = int(num_topics * 0.20), int(num_topics * 0.35)\n",
    "test_size = num_topics - train_size - dev_size\n",
    "\n",
    "def train_test_split(data_dict, start_index, end_index):\n",
    "    items = list(data_dict.items())\n",
    "    split_data = dict(items[start_index: end_index])\n",
    "    \n",
    "    return split_data\n",
    "\n",
    "train_salience = train_test_split(salience, 0, train_size)\n",
    "dev_salience = train_test_split(salience, train_size, train_size + dev_size)\n",
    "test_salience = train_test_split(salience, train_size + dev_size, train_size + dev_size + test_size)\n",
    "\n",
    "train_PC = PC_dataset[:train_size]\n",
    "val_PC   = PC_dataset[train_size: train_size + dev_size]\n",
    "test_PC  = PC_dataset[train_size + dev_size:]"
   ]
  },
  {
   "cell_type": "code",
   "execution_count": 156,
   "metadata": {},
   "outputs": [
    {
     "name": "stdout",
     "output_type": "stream",
     "text": [
      "Train size: 19\n",
      "Dev size: 34\n",
      "Test size: 45\n",
      "Train documents count: 60\n",
      "Dev documents count: 79\n",
      "Test documents count: 136\n"
     ]
    }
   ],
   "source": [
    "print(f'Train size: {len(train_salience)}')\n",
    "print(f'Dev size: {len(dev_salience)}')\n",
    "print(f'Test size: {len(test_salience)}')\n",
    "print(f'Train documents count: {calculate_num_documents(train_salience)}')\n",
    "print(f'Dev documents count: {calculate_num_documents(dev_salience)}')\n",
    "print(f'Test documents count: {calculate_num_documents(test_salience)}')"
   ]
  },
  {
   "attachments": {
    "image.png": {
     "image/png": "[encoded data removed]"
    }
   },
   "cell_type": "markdown",
   "metadata": {},
   "source": [
    "Evaluation of Salience detection:\n",
    "\n",
    "![image.png](attachment:image.png)"
   ]
  },
  {
   "cell_type": "code",
   "execution_count": 157,
   "metadata": {},
   "outputs": [],
   "source": [
    "# class Topic(pydantic.BaseModel):\n",
    "#     topic: str\n",
    "#     topic_description: str\n",
    "\n",
    "# class Topics(pydantic.BaseModel):\n",
    "#     topics: List[Topic]\n",
    "\n",
    "# class TypedQuestion2BlogOutline(dspy.Signature):\n",
    "#     \"\"\"Your task is to write a Weaviate blog post that will help answer the given question.\\nPlease use the contexts from a web search and published Weaviate blog posts to evaluate the structure of the blog post.\"\"\"\n",
    "    \n",
    "#     question: str = dspy.InputField()\n",
    "#     blog_context: str = dspy.InputField()\n",
    "#     web_context: str = dspy.InputField()\n",
    "#     blog_outline: Topics = dspy.OutputField(desc=\"A list of topics the blog will cover. IMPORTANT!! This must follow a comma separated list of values!\")"
   ]
  },
  {
   "cell_type": "code",
   "execution_count": 158,
   "metadata": {},
   "outputs": [],
   "source": [
    "class DictOfSpansClustersType(pydantic.BaseModel):\n",
    "    span_cluster_dict: Dict[int, int]\n",
    "\n",
    "class PropositionClusteringSignature(dspy.Signature):\n",
    "    \"\"\"Please Cluster salience spans into groups. Each group should contain spans that share the same information. all the input spans should be in the output clusters\"\"\"\n",
    "\n",
    "    # salience_spans = dspy.InputField()\n",
    "    # salience_spans = dspy.InputField(format=list)\n",
    "    salience_spans : str = dspy.InputField(desc='Salience spans which each span starting with <START_SPAN_IDX> and end with <END_SPAN_IDX>, each salience span can have <SPAN_SEP> which seprate bettwen subspans inside the currnet IDX span.')\n",
    "    # output_length : str = dspy.InputField(desc='Fact of the expected output length')\n",
    "    clusters : Dict[int, int] = dspy.OutputField(desc='A dict in the following format {<SPAN_NUMBER_IDXi>:<CLUSTER IDXi>, <SPAN_NUMBER_IDXj>:<CLUSTER IDXj>, ...}. return ONLY a dict with spans and cluster!, return ONLY a dict with spans and cluster!, return ONLY a dict with spans and cluster!, return ONLY a dict with spans and cluster!')\n",
    "    # clusters : Dict[int, int] = dspy.OutputField()\n",
    "    # clusters : DictOfSpansClustersType = dspy.OutputField()"
   ]
  },
  {
   "cell_type": "code",
   "execution_count": 159,
   "metadata": {},
   "outputs": [],
   "source": [
    "    \n",
    "# class PropositionClusteringSignature(dspy.Signature):\n",
    "#     \"\"\"Please Cluster salience spans into groups. Each group should contain spans that share the same information. all the input spans should be in the output clusters\"\"\"\n",
    "\n",
    "#     # salience_spans = dspy.InputField()\n",
    "#     # salience_spans = dspy.InputField(format=list)\n",
    "#     salience_spans = dspy.InputField(desc='Salience spans which each span starting with <START_SPAN_IDX> and end with <END_SPAN_IDX>, each salience span can have <SPAN_SEP> which seprate bettwen subspans inside the currnet IDX span.')\n",
    "#     clusters = dspy.OutputField(desc='A JSON in the following format {<SPAN_NUMBER_IDXi>:<CLUSTER IDXi>, <SPAN_NUMBER_IDXj>:<CLUSTER IDXj>, ...}. return only a JSON!')"
   ]
  },
  {
   "cell_type": "code",
   "execution_count": 160,
   "metadata": {},
   "outputs": [],
   "source": [
    "class CleanDictSignature(dspy.Signature):\n",
    "    \"\"\"Clean the dict to be only integers. The keys and the values must be type int.\n",
    "\n",
    "    ---\n",
    "\n",
    "    Follow the examples:\n",
    "    String dict: {\"0\": \"cluster1\",\"1\": \"cluster2\",\"2\": \"cluster3\",\"3\": \"cluster3\",\"4\": \"cluster3\",\"5\": \"cluster3\",\"6\": \"cluster3\",\"7\": \"cluster3\",\"8\": \"cluster3\",\"9\": \"cluster3\",\"10\": \"cluster3\",\"11\": \"cluster3\",\"12\": \"cluster3\",\"13\": \"cluster3\",\"14\": \"cluster4\"}\n",
    "    Int dict:{0: 1,1: 2,2: 3,3: 3,4: 3,5: 3,6: 3,7: 3,8: 3,9: 3,10: 3,11: 3,12: 3,13: 3,14: 4}\n",
    "    \n",
    "\n",
    "     String dict: { '0': 0, '1': 0, '2': 0, '3': 0, '4': 0, '5': 0, '6': 0, '7': 0, '8': 0, '9': 0, '10': 0, '11': 0, '12': 1, '13': 1, '14': 2 }\n",
    "    Int dict::{ 0: 0, 1: 0, 2: 0, 3: 0, 4: 0, 5: 0, 6: 0, 7: 0, 8: 0, 9: 0, 10: 0, 11: 0, 12: 1, 13: 1, 14: 2 }\n",
    "    \n",
    "\n",
    "    String dict: \"{ 'SPAN_NUMBER_0': 'CLUSTER_1', 'SPAN_NUMBER_1': 'CLUSTER_2', 'SPAN_NUMBER_2': 'CLUSTER_2', 'SPAN_NUMBER_3': 'CLUSTER_2', 'SPAN_NUMBER_4': 'CLUSTER_2', 'SPAN_NUMBER_5': 'CLUSTER_2', 'SPAN_NUMBER_6': 'CLUSTER_2', 'SPAN_NUMBER_7': 'CLUSTER_2', 'SPAN_NUMBER_8': 'CLUSTER_3', 'SPAN_NUMBER_9': 'CLUSTER_4', 'SPAN_NUMBER_10': 'CLUSTER_4' }\"\n",
    "    Int dict:  { 0: 1, 1: 2, 2: 2, 3: 2, 4: 2, 5: 2, 6: 2, 7: 2, 8: 3, 9: 4, 10: 4 }\n",
    "    ---\n",
    "    \"\"\"\n",
    "    \n",
    "\n",
    "    string_dict = dspy.InputField(desc='str dict which need to be cleaned up')\n",
    "    int_dict = dspy.OutputField(desc='A dict with keys as type int, and values as type int.')"
   ]
  },
  {
   "cell_type": "code",
   "execution_count": 161,
   "metadata": {},
   "outputs": [],
   "source": [
    "class PropositionalClusteringCOT(dspy.Module):\n",
    "    def __init__(self):\n",
    "        super().__init__()\n",
    "\n",
    "        self.generate_clusters = dspy.ChainOfThoughtWithHint(PropositionClusteringSignature, activated=False)\n",
    "        self.clean_clusters = dspy.Predict(CleanDictSignature)\n",
    "        # self.generate_clusters = dspy.ChainOfThought(PropositionClusteringSignature, activated=False)\n",
    "\n",
    "    def forward(self, salience_spans):\n",
    "        clusters = self.generate_clusters(salience_spans=salience_spans, hint=f'Output length should be {len(salience_spans)} spans.')\n",
    "        # clusters = self.generate_clusters(salience_spans=salience_spans, output_length=f'Output length should be {len(salience_spans)} spans with there cluster idx.')\n",
    "        # clusters = self.generate_clusters(salience_spans=salience_spans)\n",
    "        int_clusters = self.clean_clusters(string_dict=clusters.clusters)\n",
    "        # dspy.Suggest(\n",
    "        #     len(int_clusters) == len(spans),\n",
    "        #     f'All the spans in input must have cluster'\n",
    "        # )\n",
    "        pred = dspy.Prediction(clusters=int_clusters.int_dict)\n",
    "        return pred"
   ]
  },
  {
   "cell_type": "markdown",
   "metadata": {},
   "source": [
    "Taks:\n",
    "* How to extened the ouput length.\n",
    "* "
   ]
  },
  {
   "cell_type": "code",
   "execution_count": 162,
   "metadata": {},
   "outputs": [],
   "source": [
    "from sklearn.metrics import homogeneity_score, completeness_score, v_measure_score\n",
    "import numpy as np\n",
    "from dspy.evaluate import Evaluate\n",
    "\n",
    "def validate_propositional_clustering(example, pred, trace=None):\n",
    "    \"\"\"Validate clustering results using homogeneity, completeness, and V-measure.\"\"\"\n",
    "    \n",
    "    true_labels = eval(example.clusters)\n",
    "    predicted_labels = eval(pred.clusters)\n",
    "    # print(pred.clusters)\n",
    "    # list of cluster by span number if key=span_idx : value=cluster_idx if {1:0, 2:0, 0:1} then [1, 0, 0]\n",
    "    true_labels_list = [true_labels[key] for key in sorted(true_labels.keys())]\n",
    "    predicted_labels_list = [predicted_labels[key] for key in sorted(predicted_labels.keys())]\n",
    "    # print(true_labels_list)\n",
    "    # print(predicted_labels_list)\n",
    "    if np.shape(true_labels_list) != np.shape(predicted_labels_list):\n",
    "        print(f'Shape inst match.')\n",
    "        # print(f'true_labels_list: {true_labels_list}, np.shape(true_labels_list)={np.shape(true_labels_list)}, \\npredicted_labels_list:{predicted_labels_list}, np.shape(predicted_labels_list)={np.shape(predicted_labels_list)}')\n",
    "        return 0\n",
    "    homogeneity = homogeneity_score(true_labels_list, predicted_labels_list)\n",
    "    completeness = completeness_score(true_labels_list, predicted_labels_list)\n",
    "    v_measure = v_measure_score(true_labels_list, predicted_labels_list)\n",
    "    \n",
    "    print({\n",
    "        'homogeneity': homogeneity,\n",
    "        'completeness': completeness,\n",
    "        'v_measure': v_measure\n",
    "    })\n",
    "    return v_measure\n",
    "    # return {\n",
    "    #     'homogeneity': homogeneity,\n",
    "    #     'completeness': completeness,\n",
    "    #     'v_measure': v_measure\n",
    "    # }\n",
    "\n",
    "pc_evaluator = Evaluate(devset=val_PC, metric=validate_propositional_clustering, num_threads=3, display_progress=True, display_table=5)"
   ]
  },
  {
   "cell_type": "code",
   "execution_count": 163,
   "metadata": {},
   "outputs": [
    {
     "name": "stdout",
     "output_type": "stream",
     "text": [
      "{0: 1, 1: 2, 2: 3, 3: 4, 4: 5, 5: 2, 6: 6, 7: 7, 8: 8, 9: 9, 10: 10, 11: 9, 12: 11, 13: 12, 14: 12, 15: 13, 16: 14, 17: 15, 18: 16, 19: 17, 20: 18, 21: 19, 22: 8, 23: 20, 24: 21, 25: 22, 26: 23, 27: 24, 28: 25, 29: 2, 30: 26, 31: 27, 32: 28, 33: 3, 34: 27, 35: 28, 36: 29}\n",
      "{'homogeneity': 0.8865078456082007, 'completeness': 0.7436322370429398, 'v_measure': 0.8088087881547094}\n"
     ]
    },
    {
     "data": {
      "text/plain": [
       "0.8088087881547094"
      ]
     },
     "execution_count": 163,
     "metadata": {},
     "output_type": "execute_result"
    }
   ],
   "source": [
    "validate_propositional_clustering(train_PC[0], dspy.Prediction(clusters=str({\n",
    "    0: 1,\n",
    "    1: 2,\n",
    "    2: 3,\n",
    "    3: 4,\n",
    "    4: 5,\n",
    "    5: 2,\n",
    "    6: 6,\n",
    "    7: 7,\n",
    "    8: 8,\n",
    "    9: 9,\n",
    "    10: 10,\n",
    "    11: 9,\n",
    "    12: 11,\n",
    "    13: 12,\n",
    "    14: 12,\n",
    "    15: 13,\n",
    "    16: 14,\n",
    "    17: 15,\n",
    "    18: 16,\n",
    "    19: 17,\n",
    "    20: 18,\n",
    "    21: 19,\n",
    "    22: 8,\n",
    "    23: 20,\n",
    "    24: 21,\n",
    "    25: 22,\n",
    "    26: 23,\n",
    "    27: 24,\n",
    "    28: 25,\n",
    "    29: 2,\n",
    "    30: 26,\n",
    "    31: 27,\n",
    "    32: 28,\n",
    "    33: 3,\n",
    "    34: 27,\n",
    "    35: 28,\n",
    "    36: 29\n",
    "})))\n",
    "# validate_propositional_clustering(train_PC[0], dspy.Prediction(clusters={0: 0, 1: 1, 2: 2, 3: 3, 4: 4, 5: 5, 6: 6, 7: 7, 8: 8, 9: 9, 10: 6, 11: 7, 12: 10, 13: 11, 14: 12, 15: 13, 16: 14, 17: 15, 18: 16, 19: 1, 20: 6, 21: 17, 22: 7, 23: 8, 24: 18, 25: 19, 26: 20, 27: 21, 28: 22, 29: 23, 30: 24, 31: 25, 32: 16, 33: 26, 34: 27, 35: 28, 36: 29}))\n",
    "# validate_propositional_clustering(train_PC[0], dspy.Prediction(clusters={0: 0, 1: 0, 2: 0, 3: 0, 4: 0, 5: 0, 6: 0, 7: 0, 8: 0, 9: 0, 10: 0, 11: 0, 12: 0, 13: 0, 14: 0, 15: 0, 16: 0, 17: 0, 18: 0, 19: 0, 20: 0, 21: 0, 22: 0, 23: 0, 24: 0, 25: 0, 26: 0, 27: 0, 28: 0, 29: 0, 30: 0, 31: 0, 32: 0, 33: 0, 34: 0, 35: 0, 36: 0}\n",
    "# ))"
   ]
  },
  {
   "cell_type": "code",
   "execution_count": 164,
   "metadata": {},
   "outputs": [],
   "source": [
    "\n",
    "generate_clusters = PropositionalClusteringCOT()\n"
   ]
  },
  {
   "cell_type": "code",
   "execution_count": 165,
   "metadata": {},
   "outputs": [],
   "source": [
    "# from dspy.primitives.assertions import assert_transform_module, backtrack_handler\n",
    "\n",
    "# baleen_with_assertions = assert_transform_module(PropositionalClusteringCOT(), backtrack_handler).activate_assertions()\n",
    "\n",
    "# propositional_cluster_config = dict(\n",
    "#     max_bootstrapped_demos=4, max_labeled_demos=4, num_candidate_programs=10, num_threads=6\n",
    "# )\n",
    "# # propositional_cluster_config = dict(\n",
    "# #     max_bootstrapped_demos=4, max_labeled_demos=4\n",
    "# # )\n",
    "# telepropmpter_PC = BootstrapFewShotWithRandomSearch(metric=validate_propositional_clustering, **propositional_cluster_config)\n",
    "# # telepropmpter_PC = BootstrapFewShot(metric=validate_propositional_clustering, **propositional_cluster_config)\n",
    "# optimizer_propositional_clustering = telepropmpter_PC.compile(baleen_with_assertions, trainset=train_PC, valset=val_PC)"
   ]
  },
  {
   "cell_type": "code",
   "execution_count": 146,
   "metadata": {},
   "outputs": [
    {
     "data": {
      "text/plain": [
       "Prediction(\n",
       "    clusters=\"{\\n0: 'Cluster 1',\\n1: 'Cluster 2',\\n2: 'Cluster 3',\\n3: 'Cluster 4'\\n}\"\n",
       ")"
      ]
     },
     "execution_count": 146,
     "metadata": {},
     "output_type": "execute_result"
    }
   ],
   "source": [
    "#Define teleprompter\n",
    "teleprompter = LabeledFewShot(k=1)\n",
    "\n",
    "# Compile!\n",
    "compiled_rag = teleprompter.compile(PropositionalClusteringCOT(), trainset=train_PC)\n",
    "compiled_rag(PC_dataset[51].salience_spans)"
   ]
  },
  {
   "cell_type": "code",
   "execution_count": 166,
   "metadata": {},
   "outputs": [
    {
     "name": "stderr",
     "output_type": "stream",
     "text": [
      "  0%|          | 0/34 [00:00<?, ?it/s]"
     ]
    },
    {
     "name": "stdout",
     "output_type": "stream",
     "text": [
      "{ 0: 1, 1: 1, 2: 1, 3: 2, 4: 2, 5: 2, 6: 2, 7: 2, 8: 1, 9: 1, 10: 1, 11: 1, 12: 1, 13: 1, 14: 1 }\n",
      "{'homogeneity': 0.2156357729754638, 'completeness': 0.8548035084242562, 'v_measure': 0.34439359332960123}\n"
     ]
    },
    {
     "name": "stderr",
     "output_type": "stream",
     "text": [
      "Average Metric: 0.34439359332960123 / 1  (34.4):   3%|▎         | 1/34 [00:47<25:53, 47.09s/it]"
     ]
    },
    {
     "name": "stdout",
     "output_type": "stream",
     "text": [
      "{ 0: 'Cluster1', 1: 'Cluster1', 2: 'Cluster1', 3: 'Cluster2', 4: 'Cluster3', 5: 'Cluster3', 6: 'Cluster4', 7: 'Cluster5', 8: 'Cluster5', 9: 'Cluster6', 10: 'Cluster6', 11: 'Cluster7', 12: 'Cluster7', 13: 'Cluster8', 14: 'Cluster9', 15: 'Cluster9', 16: 'Cluster10', 17: 'Cluster11', 18: 'Cluster11', 19: 'Cluster12', 20: 'Cluster13', 21: 'Cluster14', 22: 'Cluster15' }\n",
      "{'homogeneity': 0.8347477089909346, 'completeness': 0.853874207793551, 'v_measure': 0.8442026384205517}\n"
     ]
    },
    {
     "name": "stderr",
     "output_type": "stream",
     "text": [
      "Average Metric: 1.1885962317501528 / 2  (59.4):   6%|▌         | 2/34 [00:53<12:23, 23.24s/it] "
     ]
    },
    {
     "name": "stdout",
     "output_type": "stream",
     "text": [
      "{\n",
      "0: 'Legal Challenges and Constitutional Issues',\n",
      "1: 'Political Dynamics',\n",
      "2: 'Education and Affirmative Action',\n",
      "3: 'Legal Predictions',\n",
      "4: 'Abortion Case Outlook',\n",
      "5: 'Death Penalty'\n",
      "}\n",
      "Shape inst match.\n"
     ]
    },
    {
     "name": "stderr",
     "output_type": "stream",
     "text": [
      "Average Metric: 1.1885962317501528 / 3  (39.6):   9%|▉         | 3/34 [00:55<07:04, 13.70s/it]"
     ]
    },
    {
     "name": "stdout",
     "output_type": "stream",
     "text": [
      "{ 0: 1, 1: 1, 2: 1, 3: 1, 4: 1, 5: 1, 6: 1, 7: 1, 8: 1, 9: 1, 10: 1, 11: 1, 12: 1, 13: 1, 14: 1, 15: 1, 16: 1, 17: 1 }\n",
      "{'homogeneity': 0.0, 'completeness': 1.0, 'v_measure': 0.0}\n"
     ]
    },
    {
     "name": "stderr",
     "output_type": "stream",
     "text": [
      "Average Metric: 1.1885962317501528 / 4  (29.7):  12%|█▏        | 4/34 [01:00<05:01, 10.05s/it]"
     ]
    },
    {
     "name": "stdout",
     "output_type": "stream",
     "text": [
      "{ 0: 1, 1: 1 }\n",
      "{'homogeneity': 0.0, 'completeness': 1.0, 'v_measure': 0.0}\n"
     ]
    },
    {
     "name": "stderr",
     "output_type": "stream",
     "text": [
      "Average Metric: 1.1885962317501528 / 5  (23.8):  15%|█▍        | 5/34 [01:00<03:11,  6.60s/it]"
     ]
    },
    {
     "name": "stdout",
     "output_type": "stream",
     "text": [
      "{ 0: 1, 1: 1, 2: 1, 3: 1, 4: 1, 5: 2, 6: 2, 7: 2, 8: 2, 9: 3, 10: 4 }\n",
      "{'homogeneity': 0.5115725397072408, 'completeness': 1.0, 'v_measure': 0.6768746140444195}\n"
     ]
    },
    {
     "name": "stderr",
     "output_type": "stream",
     "text": [
      "Average Metric: 1.8654708457945723 / 6  (31.1):  18%|█▊        | 6/34 [01:03<02:24,  5.16s/it]"
     ]
    },
    {
     "name": "stdout",
     "output_type": "stream",
     "text": [
      "{\n",
      "  0: 'Cluster0',\n",
      "  1: 'Cluster1',\n",
      "  2: 'Cluster2',\n",
      "  3: 'Cluster3',\n",
      "  4: 'Cluster4',\n",
      "  5: 'Cluster5',\n",
      "  6: 'Cluster6',\n",
      "  7: 'Cluster7',\n",
      "  8: 'Cluster8',\n",
      "  9: 'Cluster2'\n",
      "}\n",
      "Shape inst match.\n"
     ]
    },
    {
     "name": "stderr",
     "output_type": "stream",
     "text": [
      "Average Metric: 1.8654708457945723 / 7  (26.6):  21%|██        | 7/34 [01:46<07:58, 17.71s/it]"
     ]
    },
    {
     "name": "stdout",
     "output_type": "stream",
     "text": [
      "{ 1: 'A veteran who lost his genitals from a blast in Afghanistan', 2: 'The Hopkins patient received an extra experimental step, an infusion of bone marrow from his donor that research suggests may help a recipient\\'s immune system better tolerate a transplant', 3: 'In addition to a large skin graft covering part of the sergeant\\'s abdomen, penis and scrotum, surgeons connected three arteries, four veins and two nerves to provide blood flow and sensation to the donated tissue.', 4: 'Surgeons said that is enabling the veteran to take one anti-rejection drug instead of several', 5: 'The surgery, performed in a 14-hour procedure', 6: 'surgeons rebuilt the man\\'s entire pelvic region in a 14-hour operation', 7: 'A veteran has received the world\\'s most extensive penis transplant', 8: 'The scrotum transplant did not include the donor\\'s testicles, meaning reproduction won\\'t be possible.', 9: 'Hopkins is screening additional veterans to see if they are good candidates for this type of reconstructive transplant', 10: 'The patient is expected to recover urinary and, eventually, sexual function' }\n",
      "Shape inst match.\n"
     ]
    },
    {
     "name": "stderr",
     "output_type": "stream",
     "text": [
      "Average Metric: 1.8654708457945723 / 8  (23.3):  24%|██▎       | 8/34 [01:56<06:31, 15.06s/it]"
     ]
    },
    {
     "name": "stdout",
     "output_type": "stream",
     "text": [
      "{ 0: 1, 1: 1, 2: 2, 3: 2, 4: 2, 5: 2, 6: 3, 7: 3, 8: 4, 9: 5, 10: 5, 11: 6, 12: 7, 13: 8, 14: 9, 15: 9, 16: 10, 17: 10 }\n",
      "{'homogeneity': 0.7015111620457093, 'completeness': 0.7414084017857061, 'v_measure': 0.720908195472925}\n"
     ]
    },
    {
     "name": "stderr",
     "output_type": "stream",
     "text": [
      "Average Metric: 2.5863790412674974 / 9  (28.7):  26%|██▋       | 9/34 [02:00<04:55, 11.80s/it]"
     ]
    },
    {
     "name": "stdout",
     "output_type": "stream",
     "text": [
      "{ 0: 1, 1: 1, 2: 1, 3: 1, 4: 1, 5: 1, 6: 1, 7: 1, 9: 1, 10: 1, 11: 2, 12: 3, 13: 4, 14: 5, 15: 6, 16: 7 }\n",
      "Shape inst match.\n"
     ]
    },
    {
     "name": "stderr",
     "output_type": "stream",
     "text": [
      "Average Metric: 2.5863790412674974 / 10  (25.9):  29%|██▉       | 10/34 [02:04<03:42,  9.27s/it]"
     ]
    },
    {
     "name": "stdout",
     "output_type": "stream",
     "text": [
      "{ 0: 0, 1: 0, 2: 0, 3: 0, 4: 0, 5: 0, 6: 0, 7: 0, 8: 0, 9: 0, 10: 0, 11: 0, 12: 0, 13: 0, 14: 0 }\n",
      "{'homogeneity': 0.0, 'completeness': 1.0, 'v_measure': 0.0}\n"
     ]
    },
    {
     "name": "stderr",
     "output_type": "stream",
     "text": [
      "Average Metric: 2.5863790412674974 / 11  (23.5):  32%|███▏      | 11/34 [02:08<02:53,  7.52s/it]"
     ]
    },
    {
     "name": "stdout",
     "output_type": "stream",
     "text": [
      "{ 0: 1, 1: 1 }\n",
      "{'homogeneity': 0.0, 'completeness': 1.0, 'v_measure': 0.0}\n"
     ]
    },
    {
     "name": "stderr",
     "output_type": "stream",
     "text": [
      "Average Metric: 2.5863790412674974 / 12  (21.6):  35%|███▌      | 12/34 [02:08<01:58,  5.39s/it]"
     ]
    },
    {
     "name": "stdout",
     "output_type": "stream",
     "text": [
      "{\n",
      "0: 'Cluster 1',\n",
      "1: 'Cluster 2',\n",
      "2: 'Cluster 3',\n",
      "3: 'Cluster 4',\n",
      "4: 'Cluster 5'\n",
      "}\n",
      "Shape inst match.\n"
     ]
    },
    {
     "name": "stderr",
     "output_type": "stream",
     "text": [
      "Average Metric: 2.5863790412674974 / 13  (19.9):  38%|███▊      | 13/34 [03:06<07:24, 21.18s/it]"
     ]
    },
    {
     "name": "stdout",
     "output_type": "stream",
     "text": [
      "{\n",
      "  1: \"Legal and Political Involvement\",\n",
      "  2: \"Business and Financial Connections\",\n",
      "  3: \"Legal Proceedings\",\n",
      "  4: \"Historical Context\"\n",
      "}\n",
      "Shape inst match.\n"
     ]
    },
    {
     "name": "stderr",
     "output_type": "stream",
     "text": [
      "Average Metric: 2.5863790412674974 / 14  (18.5):  41%|████      | 14/34 [03:07<05:06, 15.35s/it]ERROR [dspy.evaluate.evaluate] 2024-07-05T12:47:29.876018Z [error    ] Error for example in dev set: \t\t invalid syntax (<string>, line 2) [dspy.evaluate.evaluate] filename=evaluate.py lineno=147\n",
      "Average Metric: 2.5863790412674974 / 15  (17.2):  44%|████▍     | 15/34 [03:18<04:23, 13.89s/it]"
     ]
    },
    {
     "name": "stdout",
     "output_type": "stream",
     "text": [
      "{ 0: 1, 1: 1, 2: 1, 3: 1, 4: 1, 5: 1, 6: 1, 7: 1, 8: 1, 9: 1, 10: 1, 11: 1, 12: 1, 13: 1, 14: 1, 15: 1, 16: 1, 17: 1 }\n",
      "{'homogeneity': 0.0, 'completeness': 1.0, 'v_measure': 0.0}\n"
     ]
    },
    {
     "name": "stderr",
     "output_type": "stream",
     "text": [
      "Average Metric: 2.5863790412674974 / 16  (16.2):  47%|████▋     | 16/34 [03:23<03:20, 11.14s/it]"
     ]
    },
    {
     "name": "stdout",
     "output_type": "stream",
     "text": [
      "{ 0: 1, 1: 1, 2: 1, 3: 2, 4: 2, 5: 2, 6: 3, 7: 3, 8: 4, 9: 4, 10: 5, 11: 6, 12: 7, 13: 8 }\n",
      "{'homogeneity': 0.7259845542098009, 'completeness': 0.8994802978217412, 'v_measure': 0.8034732983841155}\n"
     ]
    },
    {
     "name": "stderr",
     "output_type": "stream",
     "text": [
      "Average Metric: 3.389852339651613 / 17  (19.9):  50%|█████     | 17/34 [03:26<02:29,  8.78s/it] "
     ]
    },
    {
     "name": "stdout",
     "output_type": "stream",
     "text": [
      "{\n",
      "  0: 1,\n",
      "  1: 2,\n",
      "  2: 3,\n",
      "  3: 4,\n",
      "  4: 5,\n",
      "  5: 6,\n",
      "  6: 7,\n",
      "  7: 8,\n",
      "  8: 9,\n",
      "  9: 10\n",
      "}\n",
      "Shape inst match.\n"
     ]
    },
    {
     "name": "stderr",
     "output_type": "stream",
     "text": [
      "Average Metric: 3.389852339651613 / 18  (18.8):  53%|█████▎    | 18/34 [03:29<01:51,  6.99s/it]"
     ]
    },
    {
     "name": "stdout",
     "output_type": "stream",
     "text": [
      "{ 0: 'Cluster1', 1: 'Cluster2', 2: 'Cluster3', 3: 'Cluster3', 4: 'Cluster3', 5: 'Cluster3', 6: 'Cluster4', 7: 'Cluster4' }\n",
      "{'homogeneity': 0.6, 'completeness': 0.8571428571428573, 'v_measure': 0.7058823529411765}\n"
     ]
    },
    {
     "name": "stderr",
     "output_type": "stream",
     "text": [
      "Average Metric: 4.0957346925927895 / 19  (21.6):  56%|█████▌    | 19/34 [04:13<04:34, 18.28s/it]"
     ]
    },
    {
     "name": "stdout",
     "output_type": "stream",
     "text": [
      "{ 0: 1, 1: 1, 2: 1, 3: 2, 4: 1, 5: 3, 6: 4, 7: 4, 8: 5, 9: 6, 10: 7, 11: 8, 12: 9, 13: 9, 14: 5 }\n",
      "{'homogeneity': 0.7436055167065954, 'completeness': 0.9103206553141573, 'v_measure': 0.8185606742488585}\n"
     ]
    },
    {
     "name": "stderr",
     "output_type": "stream",
     "text": [
      "Average Metric: 4.914295366841648 / 20  (24.6):  59%|█████▉    | 20/34 [04:17<03:13, 13.80s/it] "
     ]
    },
    {
     "name": "stdout",
     "output_type": "stream",
     "text": [
      "{\n",
      "0: 'Cluster 1',\n",
      "1: 'Cluster 2',\n",
      "2: 'Cluster 3',\n",
      "3: 'Cluster 4',\n",
      "4: 'Cluster 5'\n",
      "}\n",
      "Shape inst match.\n"
     ]
    },
    {
     "name": "stderr",
     "output_type": "stream",
     "text": [
      "Average Metric: 4.914295366841648 / 21  (23.4):  62%|██████▏   | 21/34 [04:18<02:11, 10.10s/it]ERROR [dspy.evaluate.evaluate] 2024-07-05T12:48:46.144775Z [error    ] Error for example in dev set: \t\t invalid syntax (<string>, line 1) [dspy.evaluate.evaluate] filename=evaluate.py lineno=147\n",
      "Average Metric: 4.914295366841648 / 22  (22.3):  65%|██████▍   | 22/34 [04:34<02:22, 11.87s/it]"
     ]
    },
    {
     "name": "stdout",
     "output_type": "stream",
     "text": [
      "{\n",
      "    1: 3,\n",
      "    2: 4,\n",
      "    3: 3,\n",
      "    4: 4,\n",
      "    5: 5,\n",
      "    6: 6,\n",
      "    7: 7,\n",
      "    8: 8,\n",
      "    9: 9,\n",
      "    10: 10,\n",
      "    11: 11\n",
      "}\n",
      "Shape inst match.\n"
     ]
    },
    {
     "name": "stderr",
     "output_type": "stream",
     "text": [
      "Average Metric: 4.914295366841648 / 23  (21.4):  68%|██████▊   | 23/34 [04:37<01:41,  9.24s/it]"
     ]
    },
    {
     "name": "stdout",
     "output_type": "stream",
     "text": [
      "{ 0: 1, 1: 1, 2: 1, 3: 1, 4: 1, 5: 1, 6: 1, 7: 1, 8: 1, 9: 1, 10: 1, 11: 1, 12: 1, 13: 1, 14: 1, 15: 1, 16: 1, 17: 1, 18: 1, 19: 1 }\n",
      "{'homogeneity': 0.0, 'completeness': 1.0, 'v_measure': 0.0}\n"
     ]
    },
    {
     "name": "stderr",
     "output_type": "stream",
     "text": [
      "Average Metric: 4.914295366841648 / 24  (20.5):  71%|███████   | 24/34 [04:42<01:19,  7.99s/it]"
     ]
    },
    {
     "name": "stdout",
     "output_type": "stream",
     "text": [
      "{\n",
      "  1: 1,\n",
      "  2: 2,\n",
      "  3: 3,\n",
      "  4: 4,\n",
      "  5: 5,\n",
      "  6: 6\n",
      "}\n",
      "Shape inst match.\n"
     ]
    },
    {
     "name": "stderr",
     "output_type": "stream",
     "text": [
      "Average Metric: 4.914295366841648 / 25  (19.7):  74%|███████▎  | 25/34 [05:21<02:35, 17.27s/it]"
     ]
    },
    {
     "name": "stdout",
     "output_type": "stream",
     "text": [
      "{ 0: 1, 1: 1, 2: 1, 3: 1, 4: 1, 5: 1, 6: 2, 7: 2, 8: 2, 9: 2 }\n",
      "{'homogeneity': 0.136282290171967, 'completeness': 0.38204888752657074, 'v_measure': 0.2009005037318255}\n"
     ]
    },
    {
     "name": "stderr",
     "output_type": "stream",
     "text": [
      "Average Metric: 5.115195870573474 / 26  (19.7):  76%|███████▋  | 26/34 [05:23<01:41, 12.75s/it]"
     ]
    },
    {
     "name": "stdout",
     "output_type": "stream",
     "text": [
      "{ 0: 1, 1: 1, 2: 1, 3: 1, 4: 1, 5: 2, 6: 2, 7: 3, 8: 3, 9: 3, 10: 4, 11: 4, 12: 4, 13: 5, 14: 5 }\n",
      "Shape inst match.\n"
     ]
    },
    {
     "name": "stderr",
     "output_type": "stream",
     "text": [
      "Average Metric: 5.115195870573474 / 27  (18.9):  79%|███████▉  | 27/34 [05:27<01:09,  9.93s/it]"
     ]
    },
    {
     "name": "stdout",
     "output_type": "stream",
     "text": [
      "{\n",
      "  'the birth of an island': 1,\n",
      "  'volcano was mainly belching steam into the atmosphere': 1,\n",
      "  'small amount of ash': 1,\n",
      "  'was rising no more than about 400 meters': 1,\n",
      "  'uninhabited island': 1,\n",
      "  'quite an exciting site, you get to see the birth of an island': 1,\n",
      "  'new island is more than one kilometer ... wide, two kilometers long': 1,\n",
      "  'made of loose scoria': 1,\n",
      "  'traveled by boat to within about a mile of the new island': 1,\n",
      "  'has created a large new island': 2,\n",
      "  'located 65 kilometres northwest of the nation\\'s capital': 2,\n",
      "  'will come as a relief to airlines': 2,\n",
      "  'situated on the Pacific \\'Ring of Fire\\'' : 3,\n",
      "  'volcanic eruption creates new island': 4,\n",
      "  'the ministry writes': 4,\n",
      "  'volcano was erupting to a height of about 400 meters': 4,\n",
      "  'accompanied by some large rocks': 4,\n",
      "  'other is underwater': 5\n",
      "}\n",
      "Shape inst match.\n"
     ]
    },
    {
     "name": "stderr",
     "output_type": "stream",
     "text": [
      "Average Metric: 5.115195870573474 / 28  (18.3):  82%|████████▏ | 28/34 [05:36<00:57,  9.63s/it]"
     ]
    },
    {
     "name": "stdout",
     "output_type": "stream",
     "text": [
      "{ 0: 1, 1: 1, 2: 2, 3: 3, 4: 4, 5: 5, 6: 3, 7: 7 }\n",
      "{'homogeneity': 0.8333333333333333, 'completeness': 1.0, 'v_measure': 0.9090909090909091}\n"
     ]
    },
    {
     "name": "stderr",
     "output_type": "stream",
     "text": [
      "Average Metric: 6.024286779664383 / 29  (20.8):  85%|████████▌ | 29/34 [05:38<00:37,  7.42s/it]"
     ]
    },
    {
     "name": "stdout",
     "output_type": "stream",
     "text": [
      "{ 0: 1, 1: 1, 2: 1, 3: 1, 4: 1, 5: 2, 6: 2, 7: 2, 8: 3, 9: 4, 10: 5, 11: 6, 12: 7 }\n",
      "Shape inst match.\n"
     ]
    },
    {
     "name": "stderr",
     "output_type": "stream",
     "text": [
      "Average Metric: 6.024286779664383 / 30  (20.1):  88%|████████▊ | 30/34 [05:41<00:24,  6.07s/it]"
     ]
    },
    {
     "name": "stdout",
     "output_type": "stream",
     "text": [
      "{ 0: 0, 1: 0, 2: 0, 3: 0, 4: 0, 5: 0, 6: 0, 7: 1, 8: 1, 9: 1, 10: 1, 11: 1, 12: 1, 13: 2, 14: 2, 15: 2, 16: 2, 17: 2, 18: 3, 19: 4 }\n",
      "{'homogeneity': 0.471272863658183, 'completeness': 0.8991621940417953, 'v_measure': 0.618417837019492}\n"
     ]
    },
    {
     "name": "stderr",
     "output_type": "stream",
     "text": [
      "Average Metric: 6.642704616683875 / 31  (21.4):  91%|█████████ | 31/34 [06:21<00:48, 16.12s/it]"
     ]
    },
    {
     "name": "stdout",
     "output_type": "stream",
     "text": [
      "{\n",
      "0: 'The incursion by an unmanned aircraft into Israeli airspace at the weekend',\n",
      "1: 'Jamaluddin Aberoumand, deputy coordinator for Iran\\'s Islamic Revolutionary Guard Corps, said the incident indicated that Israel\\'s anti-missile defense system',\n",
      "2: 'lacks the necessary capacity',\n",
      "3: 'exposed the weakness of Israeli air defenses',\n",
      "4: 'Aberoumand attributed claims the drone was made by Iran to a \\'psychological operation\\' by Israel but did not confirm or deny them',\n",
      "5: 'goat pen in the petting corner was hit and a vet is treating the animals still alive and dealing with those that aren\\'t',\n",
      "6: 'The Zionist regime (Israel) has many enemies',\n",
      "7: 'a drone on Saturday crossed into Israel',\n",
      "8: 'over 470 rockets have been fired from Gaza but it was the first time since June that Hamas had acknowledged launching rockets',\n",
      "9: 'a former chief spokesman of the military, wrote on Twitter it was an \\'Iranian drone',\n",
      "10: 'exploded harmlessly But',\n",
      "11: 'a small unidentified aircraft crossed into southern Israel October 6',\n",
      "12: 'Israel said it struck targets in the Gaza Strip on Monday after Palestinian militants fired rockets at Israel a day earlier'\n",
      "}\n",
      "{'homogeneity': 1.0, 'completeness': 0.8595824360039366, 'v_measure': 0.9244897342126939}\n"
     ]
    },
    {
     "name": "stderr",
     "output_type": "stream",
     "text": [
      "Average Metric: 7.5671943508965684 / 32  (23.6):  94%|█████████▍| 32/34 [06:30<00:28, 14.15s/it]"
     ]
    },
    {
     "name": "stdout",
     "output_type": "stream",
     "text": [
      "{ 0: 1, 1: 1, 2: 2, 3: 3, 4: 4, 5: 5, 6: 6, 7: 7, 8: 8, 9: 9, 10: 10, 11: 11, 12: 12, 13: 13, 14: 14, 15: 15, 16: 16 }\n",
      "{'homogeneity': 0.9694595259800867, 'completeness': 0.940729209982832, 'v_measure': 0.9548783079027451}\n"
     ]
    },
    {
     "name": "stderr",
     "output_type": "stream",
     "text": [
      "Average Metric: 8.522072658799313 / 33  (25.8):  97%|█████████▋| 33/34 [06:35<00:11, 11.27s/it] "
     ]
    },
    {
     "name": "stdout",
     "output_type": "stream",
     "text": [
      "{ 0: 1, 2: 1, 3: -1, 4: 1, 5: 1, 6: -1, 7: -1, 8: -1, 9: 1, 10: 1, 11: -1, 12: 1, 13: -1, 14: -1, 15: -1, 16: -1, 17: -1, 18: 1, 19: 1, 20: 1, 21: 1, 22: 1, 23: -1, 24: -1 }\n",
      "{'homogeneity': 0.2308881966831951, 'completeness': 0.9166666666666664, 'v_measure': 0.3688669193705224}\n"
     ]
    },
    {
     "name": "stderr",
     "output_type": "stream",
     "text": [
      "Average Metric: 8.890939578169835 / 34  (26.1): 100%|██████████| 34/34 [06:40<00:00, 11.78s/it]\n",
      "  0%|          | 0/34 [00:00<?, ?it/s]"
     ]
    },
    {
     "name": "stdout",
     "output_type": "stream",
     "text": [
      "{\n",
      "  \"cluster1\": {\n",
      "    \"description\": \"Amounts of money for the campaign allowing him to exceed his pace for 2007.\",\n",
      "    \"example\": \"Mitt Romney has raised far more than $350,000 from the firm's employees.\"\n",
      "  },\n",
      "  \"cluster2\": {\n",
      "    \"description\": \"Individual Firm Contributions\",\n",
      "    \"example\": \"Employees of Goldman Sachs gave Mr. Obama over $1 million more than donors from any other private employer in the country during the 2008 campaign.\"\n",
      "  },\n",
      "  \"cluster3\": {\n",
      "    \"description\": \"Comparative Analysis of Contributions\",\n",
      "    \"example\": \"Mitt Romney has raised far more money than Mr. Obama this year from the firms that have been among Wall Street's top sources of donations for the two candidates.\"\n",
      "  },\n",
      "  \"cluster4\": {\n",
      "    \"description\": \"Detailed Breakdown by Firm\",\n",
      "    \"example\": \"Employees of Goldman Sachs, who in the 2008 campaign gave Mr. Obama over $1 million more than donors from any other private employer in the country.\"\n",
      "  },\n",
      "  \"cluster5\": {\n",
      "    \"description\": \"Fundraising Strategies\",\n",
      "    \"example\": \"The emphasis has been on doing larger dollar fundraising events particularly asking for $2,500.\"\n",
      "  },\n",
      "  \"cluster6\": {\n",
      "    \"description\": \"Significant Donors\",\n",
      "    \"example\": \"At least 41 people have raised at least half a million dollars for the president.\"\n",
      "  }\n",
      "}\n",
      "Shape inst match.\n"
     ]
    },
    {
     "name": "stderr",
     "output_type": "stream",
     "text": [
      "Average Metric: 0 / 1  (0.0):   3%|▎         | 1/34 [01:42<56:23, 102.53s/it]"
     ]
    },
    {
     "name": "stdout",
     "output_type": "stream",
     "text": [
      "{\n",
      "    \"Location\": 1,\n",
      "    \"Incident\": 2,\n",
      "    \"Cause\": 1,\n",
      "    \"Involvement\": 3,\n",
      "    \"Community Response\": 2,\n",
      "    \"Medical Status\": 2,\n",
      "    \"Legal/Investigative Aspects\": 2,\n",
      "    \"Emotional Impact\": 1\n",
      "}\n",
      "Shape inst match.\n"
     ]
    },
    {
     "name": "stderr",
     "output_type": "stream",
     "text": [
      "Average Metric: 0 / 2  (0.0):   6%|▌         | 2/34 [01:45<23:26, 43.95s/it] "
     ]
    },
    {
     "name": "stdout",
     "output_type": "stream",
     "text": [
      "{0: 'Cluster 1', 1: 'Cluster 2', 2: 'Cluster 3', 3: 'Cluster 4', 4: 'Cluster 5'}\n",
      "Shape inst match.\n"
     ]
    },
    {
     "name": "stderr",
     "output_type": "stream",
     "text": [
      "Average Metric: 0 / 3  (0.0):   9%|▉         | 3/34 [01:47<12:52, 24.90s/it]"
     ]
    },
    {
     "name": "stdout",
     "output_type": "stream",
     "text": [
      "{\n",
      "0: 'Legal Challenges and Constitutional Issues',\n",
      "1: 'Political Dynamics',\n",
      "2: 'Education and Affirmative Action',\n",
      "3: 'Legal Predictions',\n",
      "4: 'Abortion Case Outlook',\n",
      "5: 'Death Penalty'\n",
      "}\n",
      "Shape inst match.\n"
     ]
    },
    {
     "name": "stderr",
     "output_type": "stream",
     "text": [
      "Average Metric: 0 / 4  (0.0):  12%|█▏        | 4/34 [01:49<07:56, 15.88s/it]"
     ]
    },
    {
     "name": "stdout",
     "output_type": "stream",
     "text": [
      "{\n",
      "1: 3,\n",
      "2: 2,\n",
      "3: 2,\n",
      "4: 2,\n",
      "5: 2,\n",
      "6: 2,\n",
      "7: 2\n",
      "}\n",
      "Shape inst match.\n"
     ]
    },
    {
     "name": "stderr",
     "output_type": "stream",
     "text": [
      "Average Metric: 0 / 5  (0.0):  15%|█▍        | 5/34 [01:51<05:12, 10.78s/it]"
     ]
    },
    {
     "name": "stdout",
     "output_type": "stream",
     "text": [
      "{0: 2, 1: 3}\n",
      "{'homogeneity': 1.0, 'completeness': 1.0, 'v_measure': 1.0}\n"
     ]
    },
    {
     "name": "stderr",
     "output_type": "stream",
     "text": [
      "Average Metric: 1.0 / 6  (16.7):  18%|█▊        | 6/34 [01:52<03:26,  7.39s/it]"
     ]
    },
    {
     "name": "stdout",
     "output_type": "stream",
     "text": [
      "{0: 'Cluster 1', 1: 'Cluster 2', 2: 'Cluster 3', 3: 'Cluster 4', 4: 'Cluster 5'}\n",
      "Shape inst match.\n"
     ]
    },
    {
     "name": "stderr",
     "output_type": "stream",
     "text": [
      "Average Metric: 1.0 / 7  (14.3):  21%|██        | 7/34 [03:03<12:46, 28.40s/it]"
     ]
    },
    {
     "name": "stdout",
     "output_type": "stream",
     "text": [
      "{\n",
      "0: 'Cluster 1',\n",
      "1: 'Cluster 2',\n",
      "2: 'Cluster 3',\n",
      "3: 'Cluster 4'\n",
      "}\n",
      "Shape inst match.\n"
     ]
    },
    {
     "name": "stderr",
     "output_type": "stream",
     "text": [
      "Average Metric: 1.0 / 8  (12.5):  24%|██▎       | 8/34 [03:05<08:34, 19.77s/it]"
     ]
    },
    {
     "name": "stdout",
     "output_type": "stream",
     "text": [
      "{\n",
      "0: 'Cluster 1',\n",
      "1: 'Cluster 2',\n",
      "2: 'Cluster 3',\n",
      "3: 'Cluster 4',\n",
      "4: 'Cluster 5'\n",
      "}\n",
      "Shape inst match.\n"
     ]
    },
    {
     "name": "stderr",
     "output_type": "stream",
     "text": [
      "Average Metric: 1.0 / 9  (11.1):  26%|██▋       | 9/34 [03:06<05:52, 14.11s/it]"
     ]
    },
    {
     "name": "stdout",
     "output_type": "stream",
     "text": [
      "{0: 'Cluster 1', 1: 'Cluster 2', 2: 'Cluster 3'}\n",
      "Shape inst match.\n"
     ]
    },
    {
     "name": "stderr",
     "output_type": "stream",
     "text": [
      "Average Metric: 1.0 / 10  (10.0):  29%|██▉       | 10/34 [03:08<04:02, 10.10s/it]"
     ]
    },
    {
     "name": "stdout",
     "output_type": "stream",
     "text": [
      "{\n",
      "  1: \"Cluster 1\",\n",
      "  2: \"Cluster 2\",\n",
      "  3: \"Cluster 3\",\n",
      "  4: \"Cluster 4\"\n",
      "}\n",
      "Shape inst match.\n"
     ]
    },
    {
     "name": "stderr",
     "output_type": "stream",
     "text": [
      "Average Metric: 1.0 / 11  (9.1):  32%|███▏      | 11/34 [03:09<02:53,  7.54s/it] ERROR [dspy.evaluate.evaluate] 2024-07-05T12:54:09.347873Z [error    ] Error for example in dev set: \t\t invalid syntax (<string>, line 1) [dspy.evaluate.evaluate] filename=evaluate.py lineno=147\n",
      "Average Metric: 1.0 / 12  (8.3):  35%|███▌      | 12/34 [03:17<02:45,  7.51s/it]"
     ]
    },
    {
     "name": "stdout",
     "output_type": "stream",
     "text": [
      "{\n",
      "0: 'Cluster 1',\n",
      "1: 'Cluster 2',\n",
      "2: 'Cluster 3',\n",
      "3: 'Cluster 4',\n",
      "4: 'Cluster 5'\n",
      "}\n",
      "Shape inst match.\n"
     ]
    },
    {
     "name": "stderr",
     "output_type": "stream",
     "text": [
      "Average Metric: 1.0 / 13  (7.7):  38%|███▊      | 13/34 [04:35<10:06, 28.90s/it]"
     ]
    },
    {
     "name": "stdout",
     "output_type": "stream",
     "text": [
      "{\n",
      "  1: \"Legal and Political Involvement\",\n",
      "  2: \"Business and Financial Connections\",\n",
      "  3: \"Legal Proceedings\",\n",
      "  4: \"Historical Context\"\n",
      "}\n",
      "Shape inst match.\n"
     ]
    },
    {
     "name": "stderr",
     "output_type": "stream",
     "text": [
      "Average Metric: 1.0 / 14  (7.1):  41%|████      | 14/34 [04:37<06:54, 20.73s/it]"
     ]
    },
    {
     "name": "stdout",
     "output_type": "stream",
     "text": [
      "{1: 'Medicaid Expansion Opt-Out', 2: 'Republican Governorship Gain', 3: 'Competitive State Elections', 4: 'Republican Governor Victory Impact', 5: 'Health Care Influence', 6: 'State Governor Elections Tonight', 7: 'Republican Governorship Increase'}\n",
      "Shape inst match.\n"
     ]
    },
    {
     "name": "stderr",
     "output_type": "stream",
     "text": [
      "Average Metric: 1.0 / 15  (6.7):  44%|████▍     | 15/34 [04:40<04:52, 15.40s/it]"
     ]
    },
    {
     "name": "stdout",
     "output_type": "stream",
     "text": [
      "{\n",
      "  1: 1,\n",
      "  2: 2,\n",
      "  3: 3,\n",
      "  4: 4\n",
      "}\n",
      "Shape inst match.\n"
     ]
    },
    {
     "name": "stderr",
     "output_type": "stream",
     "text": [
      "Average Metric: 1.0 / 16  (6.2):  47%|████▋     | 16/34 [04:41<03:21, 11.18s/it]"
     ]
    },
    {
     "name": "stdout",
     "output_type": "stream",
     "text": [
      "{\n",
      "    1: \"Brinkley offers support after betrayal in a courthouse setting.\",\n",
      "    2: \"Shaw is married to Cook at age 55, possibly involving marital issues or disputes.\",\n",
      "    3: \"Suzanne supports Peter through challenges with Christie.\",\n",
      "    4: \"Shaw requests a new line, likely related to communication strategies or public relations.\",\n",
      "    5: \"Shaw believes her actions were justified in taking a public stand.\",\n",
      "    6: \"Shaw separated from Cook this year due to accusations of cheating.\",\n",
      "    7: \"Shaw reflects on personal growth and realization following tumultuous events.\",\n",
      "    8: \"Christie's marriage ended after discovering an affair with Cook.\",\n",
      "    9: \"Christie was unfairly portrayed as an embittered ex-wife.\",\n",
      "    10: \"Peter's infidelities led to his legal separation from Suzanne Shaw.\",\n",
      "    11: \"Shaw attributes her marital issues to Christie Brinkley's alleged hatred.\",\n",
      "    12: \"Suzanne apologizes for bad-mouthing Christie both privately and publicly.\",\n",
      "    13: \"Shaw expresses regret for past actions against Christie, specifically from 2012.\"\n",
      "}\n",
      "Shape inst match.\n"
     ]
    },
    {
     "name": "stderr",
     "output_type": "stream",
     "text": [
      "Average Metric: 1.0 / 17  (5.9):  50%|█████     | 17/34 [04:51<03:02, 10.75s/it]"
     ]
    },
    {
     "name": "stdout",
     "output_type": "stream",
     "text": [
      "{\n",
      "  0: 1,\n",
      "  1: 2,\n",
      "  2: 3,\n",
      "  3: 4,\n",
      "  4: 5,\n",
      "  5: 6,\n",
      "  6: 7,\n",
      "  7: 8,\n",
      "  8: 9,\n",
      "  9: 10\n",
      "}\n",
      "Shape inst match.\n"
     ]
    },
    {
     "name": "stderr",
     "output_type": "stream",
     "text": [
      "Average Metric: 1.0 / 18  (5.6):  53%|█████▎    | 18/34 [04:54<02:15,  8.49s/it]ERROR [dspy.evaluate.evaluate] 2024-07-05T12:57:14.917491Z [error    ] Error for example in dev set: \t\t invalid syntax (<string>, line 1) [dspy.evaluate.evaluate] filename=evaluate.py lineno=147\n",
      "Average Metric: 1.0 / 19  (5.3):  56%|█████▌    | 19/34 [06:22<08:06, 32.42s/it]"
     ]
    },
    {
     "name": "stdout",
     "output_type": "stream",
     "text": [
      "{\n",
      "  1: \"Cluster 1\",\n",
      "  2: \"Cluster 2\",\n",
      "  3: \"Cluster 3\"\n",
      "}\n",
      "Shape inst match.\n"
     ]
    },
    {
     "name": "stderr",
     "output_type": "stream",
     "text": [
      "Average Metric: 1.0 / 20  (5.0):  59%|█████▉    | 20/34 [06:24<05:25, 23.23s/it]"
     ]
    },
    {
     "name": "stdout",
     "output_type": "stream",
     "text": [
      "{\n",
      "0: 'Cluster 1',\n",
      "1: 'Cluster 2',\n",
      "2: 'Cluster 3',\n",
      "3: 'Cluster 4',\n",
      "4: 'Cluster 5'\n",
      "}\n",
      "Shape inst match.\n"
     ]
    },
    {
     "name": "stderr",
     "output_type": "stream",
     "text": [
      "Average Metric: 1.0 / 21  (4.8):  62%|██████▏   | 21/34 [06:26<03:38, 16.79s/it]"
     ]
    },
    {
     "name": "stdout",
     "output_type": "stream",
     "text": [
      "{ 1: 'Cluster 1', 2: 'Cluster 2', 3: 'Cluster 3', 4: 'Cluster 4', 5: 'Cluster 5', 6: 'Cluster 6' }\n",
      "Shape inst match.\n"
     ]
    },
    {
     "name": "stderr",
     "output_type": "stream",
     "text": [
      "Average Metric: 1.0 / 22  (4.5):  65%|██████▍   | 22/34 [06:28<02:28, 12.36s/it]"
     ]
    },
    {
     "name": "stdout",
     "output_type": "stream",
     "text": [
      "{\n",
      "  1: 9,\n",
      "  2: 2,\n",
      "  3: 16,\n",
      "  4: 850000,\n",
      "  5: 73700000,\n",
      "  6: 16,\n",
      "  7: 48\n",
      "}\n",
      "Shape inst match.\n"
     ]
    },
    {
     "name": "stderr",
     "output_type": "stream",
     "text": [
      "Average Metric: 1.0 / 23  (4.3):  68%|██████▊   | 23/34 [06:31<01:44,  9.50s/it]"
     ]
    },
    {
     "name": "stdout",
     "output_type": "stream",
     "text": [
      "{\n",
      "  1: 1,\n",
      "  2: 2,\n",
      "  3: 3,\n",
      "  4: 4\n",
      "}\n",
      "Shape inst match.\n"
     ]
    },
    {
     "name": "stderr",
     "output_type": "stream",
     "text": [
      "Average Metric: 1.0 / 24  (4.2):  71%|███████   | 24/34 [06:33<01:11,  7.19s/it]"
     ]
    },
    {
     "name": "stdout",
     "output_type": "stream",
     "text": [
      "{\n",
      "  1: 1,\n",
      "  2: 2,\n",
      "  3: 3,\n",
      "  4: 4,\n",
      "  5: 5,\n",
      "  6: 6\n",
      "}\n",
      "Shape inst match.\n"
     ]
    },
    {
     "name": "stderr",
     "output_type": "stream",
     "text": [
      "Average Metric: 1.0 / 25  (4.0):  74%|███████▎  | 25/34 [07:35<03:34, 23.80s/it]"
     ]
    },
    {
     "name": "stdout",
     "output_type": "stream",
     "text": [
      "{\n",
      "0: 'Cluster 1',\n",
      "1: 'Cluster 2',\n",
      "2: 'Cluster 3',\n",
      "3: 'Cluster 4'\n",
      "}\n",
      "Shape inst match.\n"
     ]
    },
    {
     "name": "stderr",
     "output_type": "stream",
     "text": [
      "Average Metric: 1.0 / 26  (3.8):  76%|███████▋  | 26/34 [07:36<02:16, 17.06s/it]"
     ]
    },
    {
     "name": "stdout",
     "output_type": "stream",
     "text": [
      "{0: 'Cluster 1', 1: 'Cluster 2', 2: 'Cluster 3', 3: 'Cluster 4'}\n",
      "Shape inst match.\n"
     ]
    },
    {
     "name": "stderr",
     "output_type": "stream",
     "text": [
      "Average Metric: 1.0 / 27  (3.7):  79%|███████▉  | 27/34 [07:38<01:26, 12.42s/it]"
     ]
    },
    {
     "name": "stdout",
     "output_type": "stream",
     "text": [
      "{\n",
      "  1: \"Volcanic Eruption and Island Formation\",\n",
      "  2: \"Size and Composition\",\n",
      "  3: \"Location and Relief for Airlines\",\n",
      "  4: \"Ring of Fire Context\",\n",
      "  5: \"Eruption Details\"\n",
      "}\n",
      "Shape inst match.\n"
     ]
    },
    {
     "name": "stderr",
     "output_type": "stream",
     "text": [
      "Average Metric: 1.0 / 28  (3.6):  82%|████████▏ | 28/34 [07:40<00:56,  9.40s/it]"
     ]
    },
    {
     "name": "stdout",
     "output_type": "stream",
     "text": [
      "{0: 'Cluster 1', 1: 'Cluster 2', 2: 'Cluster 3'}\n",
      "Shape inst match.\n"
     ]
    },
    {
     "name": "stderr",
     "output_type": "stream",
     "text": [
      "Average Metric: 1.0 / 29  (3.4):  85%|████████▌ | 29/34 [07:42<00:35,  7.06s/it]"
     ]
    },
    {
     "name": "stdout",
     "output_type": "stream",
     "text": [
      "{0: 1, 1: 2, 2: 3, 3: 4, 4: 5}\n",
      "Shape inst match.\n"
     ]
    },
    {
     "name": "stderr",
     "output_type": "stream",
     "text": [
      "Average Metric: 1.0 / 30  (3.3):  88%|████████▊ | 30/34 [07:43<00:21,  5.37s/it]"
     ]
    },
    {
     "name": "stdout",
     "output_type": "stream",
     "text": [
      "{1: 'Cluster 1', 2: 'Cluster 2', 3: 'Cluster 3', 4: 'Cluster 4', 5: 'Cluster 5'}\n",
      "Shape inst match.\n"
     ]
    },
    {
     "name": "stderr",
     "output_type": "stream",
     "text": [
      "Average Metric: 1.0 / 31  (3.2):  91%|█████████ | 31/34 [08:33<00:55, 18.53s/it]"
     ]
    },
    {
     "name": "stdout",
     "output_type": "stream",
     "text": [
      "{0: 'Cluster 1', 1: 'Cluster 2', 2: 'Cluster 3', 3: 'Cluster 4', 4: 'Cluster 5'}\n",
      "Shape inst match.\n"
     ]
    },
    {
     "name": "stderr",
     "output_type": "stream",
     "text": [
      "Average Metric: 1.0 / 32  (3.1):  94%|█████████▍| 32/34 [08:34<00:27, 13.53s/it]"
     ]
    },
    {
     "name": "stdout",
     "output_type": "stream",
     "text": [
      "{0: 'Cluster 1', 1: 'Cluster 2', 2: 'Cluster 3', 3: 'Cluster 4', 4: 'Cluster 5', 5: 'Cluster 6', 6: 'Cluster 7'}\n",
      "Shape inst match.\n"
     ]
    },
    {
     "name": "stderr",
     "output_type": "stream",
     "text": [
      "Average Metric: 1.0 / 33  (3.0):  97%|█████████▋| 33/34 [08:37<00:10, 10.35s/it]"
     ]
    },
    {
     "name": "stdout",
     "output_type": "stream",
     "text": [
      "{\n",
      "0: 1,\n",
      "1: 2,\n",
      "2: 2,\n",
      "3: 2,\n",
      "4: 2,\n",
      "5: 2,\n",
      "6: 2,\n",
      "7: 2,\n",
      "8: 3,\n",
      "9: 4,\n",
      "10: 4\n",
      "}\n",
      "Shape inst match.\n"
     ]
    },
    {
     "name": "stderr",
     "output_type": "stream",
     "text": [
      "Average Metric: 1.0 / 34  (2.9): 100%|██████████| 34/34 [08:40<00:00, 15.31s/it]\n",
      "  0%|          | 0/19 [00:00<?, ?it/s]"
     ]
    },
    {
     "name": "stdout",
     "output_type": "stream",
     "text": [
      "{\n",
      "0: \"Community Response to the Camp Fire\",\n",
      "1: \"Scale and Impact of the Camp Fire\",\n",
      "2: \"Sierra Nevada's Involvement\",\n",
      "3: \"Participation from Other Breweries\",\n",
      "4: \"Timing and Launch\"\n",
      "}\n",
      "Shape inst match.\n"
     ]
    },
    {
     "name": "stderr",
     "output_type": "stream",
     "text": [
      "  5%|▌         | 1/19 [00:18<05:40, 18.93s/it]"
     ]
    },
    {
     "name": "stdout",
     "output_type": "stream",
     "text": [
      "{1: 2, 2: 2, 3: 2, 4: 2, 5: 2, 6: 2, 7: 3}\n",
      "Shape inst match.\n"
     ]
    },
    {
     "name": "stderr",
     "output_type": "stream",
     "text": [
      " 11%|█         | 2/19 [00:40<05:44, 20.24s/it]"
     ]
    }
   ],
   "source": [
    "propositional_cluster_config = dict(\n",
    "    max_bootstrapped_demos=4, max_labeled_demos=4, num_candidate_programs=10, num_threads=6\n",
    ")\n",
    "\n",
    "telepropmpter_PC = BootstrapFewShotWithRandomSearch(metric=validate_propositional_clustering, **propositional_cluster_config)\n",
    "optimizer_propositional_clustering = telepropmpter_PC.compile(PropositionalClusteringCOT(),teacher=PropositionalClusteringCOT(), trainset=train_PC, valset=val_PC)"
   ]
  },
  {
   "cell_type": "markdown",
   "metadata": {},
   "source": [
    "Tasks:\n",
    "<!-- * Define the COT moudle. -->\n",
    "* Define the prompt for propositional clustering.\n",
    "* Update the desc output.\n",
    "* Read about assertion of Json file in spesific format.\n",
    "<!-- * Read about COT with hint. -->"
   ]
  },
  {
   "cell_type": "code",
   "execution_count": null,
   "metadata": {},
   "outputs": [
    {
     "data": {
      "text/plain": [
       "24"
      ]
     },
     "execution_count": 24,
     "metadata": {},
     "output_type": "execute_result"
    }
   ],
   "source": [
    "len({ 0: 1, 1: 1, 2: 1, 3: 2, 4: 2, 5: 3, 6: 3, 7: 3, 9: 4, 10: 4, 11: 4, 12: 4, 13: 5, 14: 5, 15: 6, 16: 6, 17: 6, 18: 6, 19: 7, 20: 7, 21: 7, 22: 8, 23: 5, 24: 9 })"
   ]
  },
  {
   "cell_type": "code",
   "execution_count": null,
   "metadata": {},
   "outputs": [
    {
     "data": {
      "text/plain": [
       "{'clusters': FieldInfo(annotation=str, required=True, json_schema_extra={'desc': 'A dict in the following format <SPAN_NUMBER_IDX>:<CLUSTER IDX>. Do not add anything beside the dict.', '__dspy_field_type': 'output', 'prefix': 'Clusters:'})}"
      ]
     },
     "execution_count": 246,
     "metadata": {},
     "output_type": "execute_result"
    }
   ],
   "source": [
    "PropositionClusteringSignature.output_fields"
   ]
  },
  {
   "cell_type": "code",
   "execution_count": null,
   "metadata": {},
   "outputs": [
    {
     "data": {
      "text/plain": [
       "[\"I am LLaMA, an AI assistant developed by Meta AI that can understand and respond to human input in a conversational manner. I'm not a human, but a computer program designed to simulate conversation, answer questions, and even generate text based on the input I receive.\\n\\nI was trained on a massive dataset of text from various sources, including books, articles, and websites. This training enables me to understand natural language processing (NLP) and generate human-like responses.\\n\\nMy capabilities include:\\n\\n1. Answering questions: I can provide information on a wide range of topics, from science and history to entertainment and culture.\\n2. Generating text: I can create text based on a prompt or topic, including stories, articles, and even entire books.\\n3. Translation: I can translate text from one language to another, including popular languages such as Spanish, French, German, Chinese, and many more.\\n4. Summarization: I can summarize long pieces of text into shorter, more digestible versions.\\n5. Conversation: I can engage in natural-sounding conversations, using context and understanding to respond to questions and statements.\\n\\nI'm constantly learning and improving my abilities through machine learning algorithms and user interactions. So, feel free to chat with me, ask me questions, or give me tasks – I'll do my best to assist you!\"]"
      ]
     },
     "execution_count": 247,
     "metadata": {},
     "output_type": "execute_result"
    }
   ],
   "source": [
    "llm('Who are you')"
   ]
  },
  {
   "cell_type": "markdown",
   "metadata": {},
   "source": [
    "LLama3 have context size of 8K"
   ]
  },
  {
   "cell_type": "code",
   "execution_count": null,
   "metadata": {},
   "outputs": [
    {
     "name": "stderr",
     "output_type": "stream",
     "text": [
      "Special tokens have been added in the vocabulary, make sure the associated word embeddings are fine-tuned or trained.\n"
     ]
    }
   ],
   "source": [
    "from transformers import AutoTokenizer\n",
    "\n",
    "tokenizer = AutoTokenizer.from_pretrained(\"meta-llama/Meta-Llama-3-8B-Instruct\")"
   ]
  },
  {
   "cell_type": "code",
   "execution_count": null,
   "metadata": {},
   "outputs": [
    {
     "data": {
      "text/plain": [
       "9756"
      ]
     },
     "execution_count": 29,
     "metadata": {},
     "output_type": "execute_result"
    }
   ],
   "source": [
    "len(tokenizer.encode(train_salience['test49']['documents'][0]))"
   ]
  },
  {
   "cell_type": "code",
   "execution_count": null,
   "metadata": {},
   "outputs": [],
   "source": []
  }
 ],
 "metadata": {
  "kernelspec": {
   "display_name": "nlp",
   "language": "python",
   "name": "python3"
  },
  "language_info": {
   "codemirror_mode": {
    "name": "ipython",
    "version": 3
   },
   "file_extension": ".py",
   "mimetype": "text/x-python",
   "name": "python",
   "nbconvert_exporter": "python",
   "pygments_lexer": "ipython3",
   "version": "3.9.19"
  }
 },
 "nbformat": 4,
 "nbformat_minor": 2
}
